{
 "cells": [
  {
   "cell_type": "code",
   "execution_count": 1,
   "metadata": {},
   "outputs": [
    {
     "name": "stdout",
     "output_type": "stream",
     "text": [
      "a\n",
      "b\n",
      "c\n"
     ]
    }
   ],
   "source": [
    "l1 = ['a', 'b', 'c']\n",
    "for c in l1:\n",
    "    print(c)\n"
   ]
  },
  {
   "cell_type": "code",
   "execution_count": 6,
   "metadata": {},
   "outputs": [
    {
     "name": "stdout",
     "output_type": "stream",
     "text": [
      "0\n",
      "1\n",
      "2\n",
      "3\n",
      "4\n"
     ]
    }
   ],
   "source": [
    "# range\n",
    "for i in range(0, 5):\n",
    "    print(i)"
   ]
  },
  {
   "cell_type": "code",
   "execution_count": 7,
   "metadata": {},
   "outputs": [
    {
     "data": {
      "text/plain": [
       "range(-10, -100, -30)"
      ]
     },
     "execution_count": 7,
     "metadata": {},
     "output_type": "execute_result"
    }
   ],
   "source": [
    "# range(start=0, end, step=1)\n",
    "\n",
    "range(5, 10) # 5, 6, 7, 8, 9\n",
    "range(0, 10, 3) # 0, 3, 6, 9\n",
    "range(-10, -100, -30) # -10, -40, -70"
   ]
  },
  {
   "cell_type": "code",
   "execution_count": 9,
   "metadata": {},
   "outputs": [
    {
     "name": "stdout",
     "output_type": "stream",
     "text": [
      "0 a\n",
      "1 b\n",
      "2 c\n",
      "3 d\n",
      "4 e\n",
      "5 f\n",
      "6 g\n"
     ]
    }
   ],
   "source": [
    "# 시퀀스의 인덱스로 순환\n",
    "l2 = ['a', 'b', 'c', 'd', 'e', 'f', 'g']\n",
    "for i in range(len(l2)):\n",
    "    print(i, l2[i])"
   ]
  },
  {
   "cell_type": "code",
   "execution_count": 10,
   "metadata": {},
   "outputs": [
    {
     "name": "stdout",
     "output_type": "stream",
     "text": [
      "range(0, 10)\n"
     ]
    }
   ],
   "source": [
    "# range()가 돌려주는 객체는 이터레이트할 때 시퀀스 항목들을 순서대로 돌려주지만\n",
    "# 실제로 리스트를 만들지 않아 공간을 절약한다.\n",
    "# 이런 객체를 '이터러블'이라고 부른다.\n",
    "print(range(10))"
   ]
  },
  {
   "cell_type": "code",
   "execution_count": 11,
   "metadata": {},
   "outputs": [
    {
     "data": {
      "text/plain": [
       "10"
      ]
     },
     "execution_count": 11,
     "metadata": {},
     "output_type": "execute_result"
    }
   ],
   "source": [
    "# 이터러블을 취하는 함수 중 하나는 sum()이다.\n",
    "sum(range(5)) # 0 + 1 + 2 + 3 + 4"
   ]
  },
  {
   "cell_type": "code",
   "execution_count": 26,
   "metadata": {},
   "outputs": [
    {
     "name": "stdout",
     "output_type": "stream",
     "text": [
      "2 is a prime number\n",
      "3 is a prime number\n",
      "4 equals 2 * 2\n",
      "5 is a prime number\n",
      "6 equals 2 * 3\n",
      "7 is a prime number\n",
      "8 equals 2 * 4\n",
      "9 equals 3 * 3\n"
     ]
    }
   ],
   "source": [
    "# break는 가장 가까이 둘러싸는 for, while 루프를 빠져나가도록 한다\n",
    "# 루프는 else를 갖는데\n",
    "# 1. 이터러블의 소진이나 (for문의 경우)\n",
    "# 2. 조건이 거짓이 돼서 종료할 때 실행 (while문의 경우)\n",
    "\n",
    "# 소수를 찾는 예시\n",
    "for n in range(2, 10):\n",
    "    for x in range(2, n):\n",
    "        if n % x == 0:\n",
    "            print(n, 'equals', x, '*', n//x)\n",
    "            break\n",
    "    else:\n",
    "        print(n, 'is a prime number')"
   ]
  },
  {
   "cell_type": "code",
   "execution_count": 29,
   "metadata": {},
   "outputs": [
    {
     "name": "stdout",
     "output_type": "stream",
     "text": [
      "Found an even number 2\n",
      "Found an odd number 3\n",
      "Found an even number 4\n",
      "Found an odd number 5\n",
      "Found an even number 6\n",
      "Found an odd number 7\n",
      "Found an even number 8\n",
      "Found an odd number 9\n"
     ]
    }
   ],
   "source": [
    "# continue는 다음 이터레이션으로 넘어가도록 한다\n",
    "for n in range(2, 10):\n",
    "    if n % 2 == 0:\n",
    "        print('Found an even number', n)\n",
    "        continue\n",
    "    print('Found an odd number', n)"
   ]
  },
  {
   "cell_type": "markdown",
   "metadata": {},
   "source": [
    "[루프 테크닉](https://docs.python.org/ko/3/tutorial/datastructures.html#looping-techniques)"
   ]
  },
  {
   "cell_type": "code",
   "execution_count": 17,
   "metadata": {},
   "outputs": [
    {
     "name": "stdout",
     "output_type": "stream",
     "text": [
      "a 10\n",
      "b 20\n"
     ]
    }
   ],
   "source": [
    "# 딕셔너리 루핑\n",
    "dic = {'a': 10, 'b': 20}\n",
    "for k, v in dic.items():\n",
    "    print(k, v)"
   ]
  },
  {
   "cell_type": "code",
   "execution_count": 18,
   "metadata": {},
   "outputs": [
    {
     "name": "stdout",
     "output_type": "stream",
     "text": [
      "0 a\n",
      "1 b\n",
      "2 c\n"
     ]
    }
   ],
   "source": [
    "# 시퀀스 루핑시 인덱스가 필요하면 enumerate() 함수를 사용\n",
    "for i, v in enumerate(['a', 'b', 'c']):\n",
    "    print(i, v)"
   ]
  },
  {
   "cell_type": "code",
   "execution_count": 21,
   "metadata": {},
   "outputs": [
    {
     "name": "stdout",
     "output_type": "stream",
     "text": [
      "10 a A\n",
      "20 b B\n",
      "30 c C\n"
     ]
    }
   ],
   "source": [
    "# 둘 이상의 시퀀스를 동시에 루핑하려면 zip() 함수를 이용\n",
    "for n, s, l in zip([10, 20, 30, 40], ['a', 'b', 'c'], ['A', 'B', 'C']):\n",
    "    print(n, s, l)"
   ]
  },
  {
   "cell_type": "code",
   "execution_count": 22,
   "metadata": {},
   "outputs": [
    {
     "name": "stdout",
     "output_type": "stream",
     "text": [
      "3\n",
      "2\n",
      "1\n"
     ]
    }
   ],
   "source": [
    "# 시퀀스를 거꾸로 루핑하려면 정방향으로 시퀀스를 지정하고 reversed() 함수를 호출\n",
    "for i in reversed(range(1, 4)):\n",
    "    print(i)"
   ]
  },
  {
   "cell_type": "code",
   "execution_count": 23,
   "metadata": {},
   "outputs": [
    {
     "name": "stdout",
     "output_type": "stream",
     "text": [
      "1\n",
      "2\n",
      "3\n",
      "3\n",
      "5\n",
      "10\n"
     ]
    }
   ],
   "source": [
    "# 정렬된 순서대로 루핑하려면 sorted() 함수를 사용\n",
    "# 소스를 변경하지 않고 정렬된 새 리스트를 받는다\n",
    "for i in sorted([2, 5, 3, 10, 3, 1]):\n",
    "    print(i)"
   ]
  },
  {
   "cell_type": "code",
   "execution_count": 25,
   "metadata": {},
   "outputs": [
    {
     "name": "stdout",
     "output_type": "stream",
     "text": [
      "1\n",
      "2\n",
      "3\n",
      "5\n",
      "10\n"
     ]
    }
   ],
   "source": [
    "# set()과 sorted()를 함께 사용하면 중복을 피해서 정렬한 새 리스트를 받는다\n",
    "for i in sorted(set([2, 5, 3, 10, 3, 1])):\n",
    "    print(i)"
   ]
  },
  {
   "cell_type": "code",
   "execution_count": null,
   "metadata": {},
   "outputs": [],
   "source": []
  }
 ],
 "metadata": {
  "kernelspec": {
   "display_name": "Python 3",
   "language": "python",
   "name": "python3"
  },
  "language_info": {
   "codemirror_mode": {
    "name": "ipython",
    "version": 3
   },
   "file_extension": ".py",
   "mimetype": "text/x-python",
   "name": "python",
   "nbconvert_exporter": "python",
   "pygments_lexer": "ipython3",
   "version": "3.8.3"
  }
 },
 "nbformat": 4,
 "nbformat_minor": 4
}
