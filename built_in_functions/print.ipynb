{
 "cells": [
  {
   "cell_type": "markdown",
   "metadata": {},
   "source": [
    "[print](https://docs.python.org/ko/3/library/functions.html#print)    \n",
    "**print**(*objects, sep=' ', end='\\n', file=sys.stdout, flush=False*)"
   ]
  },
  {
   "cell_type": "code",
   "execution_count": 1,
   "metadata": {},
   "outputs": [
    {
     "name": "stdout",
     "output_type": "stream",
     "text": [
      "10 [1, 2]\n"
     ]
    }
   ],
   "source": [
    "# objects를 텍스트 스크림 file로 인쇄한다.\n",
    "print(10, [1, 2]) # objects 10, [1, 2]를 sys.stdout을 통해 인쇄"
   ]
  },
  {
   "cell_type": "code",
   "execution_count": 2,
   "metadata": {},
   "outputs": [
    {
     "name": "stdout",
     "output_type": "stream",
     "text": [
      "a&b&c-last line\n"
     ]
    }
   ],
   "source": [
    "# sep로 구분되고 end를 뒤에 붙인다.\n",
    "print('a', 'b', 'c', sep='&', end='-')\n",
    "print('last line')"
   ]
  }
 ],
 "metadata": {
  "kernelspec": {
   "display_name": "Python 3",
   "language": "python",
   "name": "python3"
  },
  "language_info": {
   "codemirror_mode": {
    "name": "ipython",
    "version": 3
   },
   "file_extension": ".py",
   "mimetype": "text/x-python",
   "name": "python",
   "nbconvert_exporter": "python",
   "pygments_lexer": "ipython3",
   "version": "3.8.3"
  }
 },
 "nbformat": 4,
 "nbformat_minor": 4
}
