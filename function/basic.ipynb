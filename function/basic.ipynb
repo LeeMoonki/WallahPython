{
 "cells": [
  {
   "cell_type": "code",
   "execution_count": 1,
   "metadata": {},
   "outputs": [],
   "source": [
    "# 반환 값이 없는 함수는 None을 반환\n",
    "def return_none(a=10):\n",
    "    a\n",
    "\n",
    "r = return_none()\n",
    "print(r)"
   ]
  },
  {
   "cell_type": "code",
   "execution_count": 2,
   "metadata": {},
   "outputs": [],
   "source": [
    "# 피보나치 수열 함수\n",
    "def fib(n):\n",
    "    \"\"\"n까지의 피보나치 수열을 출력\"\"\"\n",
    "    a, b = 0, 1\n",
    "    while a < n:\n",
    "        print(a, end=' ')\n",
    "        a, b = b, a + b\n",
    "    print()"
   ]
  },
  {
   "cell_type": "code",
   "execution_count": 3,
   "metadata": {},
   "outputs": [],
   "source": [
    "fib(2000)"
   ]
  },
  {
   "cell_type": "code",
   "execution_count": 4,
   "metadata": {},
   "outputs": [],
   "source": [
    "# 적역 변수는 참조될 수는 있어도 전역 변수들과 둘러싸는 함수의 변수들은\n",
    "# 함수 내에서 직접 값이 대입될 수 없다\n",
    "# (전역 변수를 global 문으로 명시하거나 둘러싸는 함수의 변수를 nonlocal 문으로 명시하지 않는한)\n",
    "\n",
    "a = 10\n",
    "b = 20\n",
    "def scope():\n",
    "    a = 1\n",
    "    print('local', a, b) \n",
    "scope()\n",
    "print('global', a)\n",
    "\n",
    "# 함수 호출로 전달되는 실제 매개변수들 (인자들)은 호출될 때\n",
    "# 호출되는 함수의 지역 심볼 테이블에 만들어진다.\n",
    "# 그래서 인자들은 값에 의한 호출(call by value)로 전달된다."
   ]
  },
  {
   "cell_type": "code",
   "execution_count": 5,
   "metadata": {},
   "outputs": [],
   "source": [
    "# 함수 정의는 함수 이름을 현재 심볼 테이블의 함수 객체와 연결한다.\n",
    "# 인터프리터는 해당 이름이 가리키는 객체를 사용자 정의 함수로 인식한다.\n",
    "# 다른 이름은 같은 함수 객체를 가리킬 수 있으며 함수에 액세스하는 데 사용될 수 있다.\n",
    "fib"
   ]
  },
  {
   "cell_type": "code",
   "execution_count": 6,
   "metadata": {},
   "outputs": [],
   "source": [
    "f = fib\n",
    "f(100)"
   ]
  },
  {
   "cell_type": "code",
   "execution_count": null,
   "metadata": {},
   "outputs": [],
   "source": []
  }
 ],
 "metadata": {
  "kernelspec": {
   "display_name": "Python 3",
   "language": "python",
   "name": "python3"
  },
  "language_info": {
   "codemirror_mode": {
    "name": "ipython",
    "version": 3
   },
   "file_extension": ".py",
   "mimetype": "text/x-python",
   "name": "python",
   "nbconvert_exporter": "python",
   "pygments_lexer": "ipython3",
   "version": "3.8.3"
  }
 },
 "nbformat": 4,
 "nbformat_minor": 4
}
