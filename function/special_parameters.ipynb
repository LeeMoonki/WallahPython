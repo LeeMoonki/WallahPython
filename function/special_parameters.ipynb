{
 "cells": [
  {
   "cell_type": "code",
   "execution_count": 1,
   "metadata": {},
   "outputs": [],
   "source": [
    "\"\"\"\n",
    "기본적으로, 인자는 위치나 명시적인 키워드로 파이썬 함수에 전달될 수 있습니다. 가독성과 성능을 위해, 개발자가 항목이 위치, 위치나 키워드 또는 키워드로 전달되는지를 판단할 때 함수 정의만을 보면 되도록, 인자가 전달될 방법을 제한하면 좋습니다.\n",
    "\n",
    "함수 정의는 다음과 같습니다:\n",
    "\n",
    "def f(pos1, pos2, /, pos_or_kwd, *, kwd1, kwd2):\n",
    "      -----------    ----------     ----------\n",
    "        |             |                  |\n",
    "        |        Positional or keyword   |\n",
    "        |                                - Keyword only\n",
    "         -- Positional only\n",
    "여기서 /와 *는 선택적입니다. 사용하면, 이 기호는 인자가 함수에 전달되는 방식에 따른 매개 변수의 종류를 나타냅니다: 위치 전용, 위치-키워드 및 키워드 전용. 키워드 매개 변수는 명명된(named) 매개 변수라고도 합니다.\n",
    "\"\"\""
   ]
  },
  {
   "cell_type": "code",
   "execution_count": 2,
   "metadata": {},
   "outputs": [],
   "source": [
    "def standard_arg(arg):\n",
    "    print(arg)\n",
    "    \n",
    "def pos_only_arg(arg, /):\n",
    "    print(arg)\n",
    "    \n",
    "def kwd_only_arg(*, arg):\n",
    "    print(arg)\n",
    "    \n",
    "def combined_example(pos_only, /, standard, *, kwd_only):\n",
    "    print(pos_only, standard, kwd_only)"
   ]
  },
  {
   "cell_type": "code",
   "execution_count": 3,
   "metadata": {},
   "outputs": [],
   "source": [
    "# 기본\n",
    "standard_arg(2)\n",
    "standard_arg(arg=2)"
   ]
  },
  {
   "cell_type": "code",
   "execution_count": 4,
   "metadata": {},
   "outputs": [],
   "source": [
    "pos_only_arg(1)\n",
    "# pos_only_arg(arg=1) # TypeError"
   ]
  },
  {
   "cell_type": "code",
   "execution_count": 5,
   "metadata": {},
   "outputs": [],
   "source": [
    "kwd_only_arg(arg=3)\n",
    "# kwd_only_arg(3) # TypeError"
   ]
  },
  {
   "cell_type": "code",
   "execution_count": 6,
   "metadata": {},
   "outputs": [
    {
     "name": "stdout",
     "output_type": "stream",
     "text": [
      "1 2 3\n",
      "1 2 3\n"
     ]
    }
   ],
   "source": [
    "combined_example(1, 2, kwd_only=3)\n",
    "combined_example(1, standard=2, kwd_only=3)\n",
    "# combined_example(1, 2, 3) # TypeError\n",
    "# combined_example(pos_only=1, standard=2, kwd_only=3) # TypeError"
   ]
  },
  {
   "cell_type": "code",
   "execution_count": 7,
   "metadata": {},
   "outputs": [
    {
     "data": {
      "text/plain": [
       "False"
      ]
     },
     "execution_count": 7,
     "metadata": {},
     "output_type": "execute_result"
    }
   ],
   "source": [
    "# 만약 위치 인자 `name`과 `name`을 키로 가지는 **kwds 사이에 충돌이 생길 수 있다.\n",
    "# 즉,\n",
    "def foo(name, **kwds):\n",
    "    return 'name' in kwds\n",
    "# 이 함수는 절대로 True를 가질 수 없다.\n",
    "# foo(1, **{'name': 100}) # TypeError: foo() got multiple values for argument 'name'\n",
    "\n",
    "foo(100)"
   ]
  },
  {
   "cell_type": "code",
   "execution_count": 8,
   "metadata": {},
   "outputs": [
    {
     "data": {
      "text/plain": [
       "True"
      ]
     },
     "execution_count": 8,
     "metadata": {},
     "output_type": "execute_result"
    }
   ],
   "source": [
    "# 그러나 `/`를 사용하면, `name`을 위치 인자로, 동시에 `name`을 키워드 인자의 키로 사용할 수 있으므로 가능하다.\n",
    "def bar(name, /, **kwds):\n",
    "    return 'name' in kwds\n",
    "\n",
    "bar(100, **{'name': 10})"
   ]
  },
  {
   "cell_type": "code",
   "execution_count": null,
   "metadata": {},
   "outputs": [],
   "source": []
  }
 ],
 "metadata": {
  "kernelspec": {
   "display_name": "Python 3",
   "language": "python",
   "name": "python3"
  },
  "language_info": {
   "codemirror_mode": {
    "name": "ipython",
    "version": 3
   },
   "file_extension": ".py",
   "mimetype": "text/x-python",
   "name": "python",
   "nbconvert_exporter": "python",
   "pygments_lexer": "ipython3",
   "version": "3.8.3"
  }
 },
 "nbformat": 4,
 "nbformat_minor": 4
}
