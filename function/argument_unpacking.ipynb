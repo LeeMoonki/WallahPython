{
 "cells": [
  {
   "cell_type": "code",
   "execution_count": 1,
   "metadata": {},
   "outputs": [
    {
     "name": "stdout",
     "output_type": "stream",
     "text": [
      "[3, 4, 5]\n",
      "[3, 4, 5]\n",
      "[3, 4, 5]\n"
     ]
    }
   ],
   "source": [
    "print(list(range(3, 6)))\n",
    "\n",
    "args = [3, 6]\n",
    "print(list(range(*args)))\n",
    "\n",
    "argst = (3, 6)\n",
    "print(list(range(*argst)))"
   ]
  },
  {
   "cell_type": "code",
   "execution_count": 2,
   "metadata": {},
   "outputs": [
    {
     "name": "stdout",
     "output_type": "stream",
     "text": [
      "1 2 3\n",
      "1 foo {'bar': 10}\n"
     ]
    }
   ],
   "source": [
    "def l(a, b, c):\n",
    "    print(a, b, c)\n",
    "\n",
    "l(*[1, 2, 3])\n",
    "l(*(1, 'foo', {'bar': 10}))"
   ]
  },
  {
   "cell_type": "code",
   "execution_count": 3,
   "metadata": {},
   "outputs": [
    {
     "name": "stdout",
     "output_type": "stream",
     "text": [
      "a {'a': 1, 'b': 'foo1', 'c': 'bar1'}\n",
      "b foo\n",
      "c bar\n",
      "\n",
      "\n",
      "a 1\n",
      "b foo1\n",
      "c bar1\n",
      "\n",
      "\n"
     ]
    }
   ],
   "source": [
    "def d(a, b='foo', c='bar'):\n",
    "    print('a', a)\n",
    "    print('b', b)\n",
    "    print('c', c)\n",
    "    print('\\n')\n",
    "\n",
    "args = {'a': 1, 'b': 'foo1', 'c': 'bar1'}\n",
    "d(args)\n",
    "d(**args)"
   ]
  },
  {
   "cell_type": "code",
   "execution_count": null,
   "metadata": {},
   "outputs": [],
   "source": []
  }
 ],
 "metadata": {
  "kernelspec": {
   "display_name": "Python 3",
   "language": "python",
   "name": "python3"
  },
  "language_info": {
   "codemirror_mode": {
    "name": "ipython",
    "version": 3
   },
   "file_extension": ".py",
   "mimetype": "text/x-python",
   "name": "python",
   "nbconvert_exporter": "python",
   "pygments_lexer": "ipython3",
   "version": "3.8.3"
  }
 },
 "nbformat": 4,
 "nbformat_minor": 4
}
