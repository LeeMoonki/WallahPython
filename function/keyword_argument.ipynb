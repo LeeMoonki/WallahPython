{
 "cells": [
  {
   "cell_type": "code",
   "execution_count": 8,
   "metadata": {},
   "outputs": [],
   "source": [
    "# 위치 인자(a)와 선택 인자(b, c)\n",
    "def k(a, b=1, c='foo'):\n",
    "    print('a', a)\n",
    "    print('b', b)\n",
    "    print('c', c, '\\n')"
   ]
  },
  {
   "cell_type": "code",
   "execution_count": 12,
   "metadata": {},
   "outputs": [
    {
     "name": "stdout",
     "output_type": "stream",
     "text": [
      "a 1\n",
      "b 2\n",
      "c bar \n",
      "\n",
      "a 10\n",
      "b 2\n",
      "c bar \n",
      "\n",
      "a 100\n",
      "b 2\n",
      "c bar \n",
      "\n",
      "a 1000\n",
      "b 2000\n",
      "c poo \n",
      "\n"
     ]
    }
   ],
   "source": [
    "# 키워드 인자는 순서 상관없이 사용 가능\n",
    "# 단, 위치 인자는 순서가 맞아야 한다.\n",
    "k(1, b=2, c='bar')\n",
    "k(a=10, b=2, c='bar')\n",
    "k(b=2, c='bar', a=100)\n",
    "k(1000, 2000, 'poo')"
   ]
  },
  {
   "cell_type": "code",
   "execution_count": 13,
   "metadata": {},
   "outputs": [],
   "source": [
    "# *name : 형식 매개변수 밖의 위치 인자들을 담은 튜플을 받기 위해 사용\n",
    "# **name : 형식 매개변수들에 대응하지 않는 모든 키워드 인자들을 담을 딕셔너리를 받기 위해 사용\n",
    "def f(a, *namet, **named):\n",
    "    print(a)\n",
    "    print(namet)\n",
    "    print(named)\n",
    "    print('\\n')"
   ]
  },
  {
   "cell_type": "code",
   "execution_count": 14,
   "metadata": {},
   "outputs": [
    {
     "name": "stdout",
     "output_type": "stream",
     "text": [
      "10\n",
      "()\n",
      "{}\n",
      "\n",
      "\n"
     ]
    }
   ],
   "source": [
    "f(10)"
   ]
  },
  {
   "cell_type": "code",
   "execution_count": 15,
   "metadata": {},
   "outputs": [
    {
     "name": "stdout",
     "output_type": "stream",
     "text": [
      "10\n",
      "(20,)\n",
      "{}\n",
      "\n",
      "\n"
     ]
    }
   ],
   "source": [
    "f(10, 20)"
   ]
  },
  {
   "cell_type": "code",
   "execution_count": 16,
   "metadata": {},
   "outputs": [
    {
     "name": "stdout",
     "output_type": "stream",
     "text": [
      "10\n",
      "()\n",
      "{'q': 'foo', 't': 'bar'}\n",
      "\n",
      "\n"
     ]
    }
   ],
   "source": [
    "f(10, q='foo', t='bar')"
   ]
  },
  {
   "cell_type": "code",
   "execution_count": 17,
   "metadata": {},
   "outputs": [
    {
     "name": "stdout",
     "output_type": "stream",
     "text": [
      "10\n",
      "(20, 30)\n",
      "{'q': 'foo', 't': 'bar'}\n",
      "\n",
      "\n"
     ]
    }
   ],
   "source": [
    "f(10, 20, 30, q='foo', t='bar')"
   ]
  },
  {
   "cell_type": "code",
   "execution_count": null,
   "metadata": {},
   "outputs": [],
   "source": []
  }
 ],
 "metadata": {
  "kernelspec": {
   "display_name": "Python 3",
   "language": "python",
   "name": "python3"
  },
  "language_info": {
   "codemirror_mode": {
    "name": "ipython",
    "version": 3
   },
   "file_extension": ".py",
   "mimetype": "text/x-python",
   "name": "python",
   "nbconvert_exporter": "python",
   "pygments_lexer": "ipython3",
   "version": "3.8.3"
  }
 },
 "nbformat": 4,
 "nbformat_minor": 4
}
