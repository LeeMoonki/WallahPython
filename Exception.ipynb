{
 "cells": [
  {
   "cell_type": "code",
   "execution_count": 3,
   "metadata": {},
   "outputs": [
    {
     "name": "stdout",
     "output_type": "stream",
     "text": [
      "NameError is occurred !!\n"
     ]
    }
   ],
   "source": [
    "# 예외는 try ... except 문으로 처리\n",
    "try:\n",
    "    print(x)\n",
    "except NameError:\n",
    "    print('NameError is occurred !!')"
   ]
  },
  {
   "cell_type": "code",
   "execution_count": 10,
   "metadata": {},
   "outputs": [
    {
     "name": "stdout",
     "output_type": "stream",
     "text": [
      "ZeroDivisionError is occrred !!\n"
     ]
    }
   ],
   "source": [
    "# try except 문에서 except는 여러 케이스를 다룰 수 있다.\n",
    "try:\n",
    "    # print(x) # NameError\n",
    "    print(1 / 0) # ZeroDivisionError\n",
    "except ZeroDivisionError:\n",
    "    print('ZeroDivisionError is occrred !!')\n",
    "except NameError:\n",
    "    print('NameError is occrred !!')"
   ]
  },
  {
   "cell_type": "code",
   "execution_count": 11,
   "metadata": {},
   "outputs": [
    {
     "name": "stdout",
     "output_type": "stream",
     "text": [
      "Wild card Error is occurred !!\n"
     ]
    }
   ],
   "source": [
    "# 와일드 카드는 마지막에 에러를 명시하지 않은 except를 사용한다.\n",
    "try:\n",
    "    print(x)\n",
    "except:\n",
    "    print('Wild card Error is occurred !!')"
   ]
  },
  {
   "cell_type": "code",
   "execution_count": 14,
   "metadata": {},
   "outputs": [
    {
     "name": "stdout",
     "output_type": "stream",
     "text": [
      "foo\n",
      "finish!\n"
     ]
    }
   ],
   "source": [
    "# try ... except 에서 에러가 없는 경우 \n",
    "# 반드시 실행되는 코드는 마지막 else 문에 담는다\n",
    "try:\n",
    "    print('foo')\n",
    "except:\n",
    "    print('Wild card Error is occurred !!')\n",
    "else:\n",
    "    print('finish!')"
   ]
  },
  {
   "cell_type": "code",
   "execution_count": 15,
   "metadata": {},
   "outputs": [
    {
     "ename": "NameError",
     "evalue": "Hi There",
     "output_type": "error",
     "traceback": [
      "\u001b[0;31m---------------------------------------------------------------------------\u001b[0m",
      "\u001b[0;31mNameError\u001b[0m                                 Traceback (most recent call last)",
      "\u001b[0;32m<ipython-input-15-474e9314ee58>\u001b[0m in \u001b[0;36m<module>\u001b[0;34m\u001b[0m\n\u001b[1;32m      1\u001b[0m \u001b[0;31m# raise를 통해 예외 발생\u001b[0m\u001b[0;34m\u001b[0m\u001b[0;34m\u001b[0m\u001b[0;34m\u001b[0m\u001b[0m\n\u001b[0;32m----> 2\u001b[0;31m \u001b[0;32mraise\u001b[0m \u001b[0mNameError\u001b[0m\u001b[0;34m(\u001b[0m\u001b[0;34m'Hi There'\u001b[0m\u001b[0;34m)\u001b[0m\u001b[0;34m\u001b[0m\u001b[0;34m\u001b[0m\u001b[0m\n\u001b[0m",
      "\u001b[0;31mNameError\u001b[0m: Hi There"
     ]
    }
   ],
   "source": [
    "# raise를 통해 예외 발생\n",
    "raise NameError('Hi There')"
   ]
  },
  {
   "cell_type": "code",
   "execution_count": 16,
   "metadata": {},
   "outputs": [
    {
     "name": "stdout",
     "output_type": "stream",
     "text": [
      "NameError is occurred !\n"
     ]
    }
   ],
   "source": [
    "try:\n",
    "    raise NameError('Hi There')\n",
    "except:\n",
    "    print('NameError is occurred !')"
   ]
  },
  {
   "cell_type": "code",
   "execution_count": 18,
   "metadata": {},
   "outputs": [
    {
     "name": "stdout",
     "output_type": "stream",
     "text": [
      "bar\n"
     ]
    },
    {
     "ename": "KeyboardInterrupt",
     "evalue": "",
     "output_type": "error",
     "traceback": [
      "\u001b[0;31m---------------------------------------------------------------------------\u001b[0m",
      "\u001b[0;31mKeyboardInterrupt\u001b[0m                         Traceback (most recent call last)",
      "\u001b[0;32m<ipython-input-18-d99a467d95c3>\u001b[0m in \u001b[0;36m<module>\u001b[0;34m\u001b[0m\n\u001b[1;32m      2\u001b[0m \u001b[0;31m# finally는 try 문이 예외를 생성하는지와 관계없이 실행된다.\u001b[0m\u001b[0;34m\u001b[0m\u001b[0;34m\u001b[0m\u001b[0;34m\u001b[0m\u001b[0m\n\u001b[1;32m      3\u001b[0m \u001b[0;32mtry\u001b[0m\u001b[0;34m:\u001b[0m\u001b[0;34m\u001b[0m\u001b[0;34m\u001b[0m\u001b[0m\n\u001b[0;32m----> 4\u001b[0;31m     \u001b[0;32mraise\u001b[0m \u001b[0mKeyboardInterrupt\u001b[0m\u001b[0;34m\u001b[0m\u001b[0;34m\u001b[0m\u001b[0m\n\u001b[0m\u001b[1;32m      5\u001b[0m \u001b[0;32mfinally\u001b[0m\u001b[0;34m:\u001b[0m\u001b[0;34m\u001b[0m\u001b[0;34m\u001b[0m\u001b[0m\n\u001b[1;32m      6\u001b[0m     \u001b[0mprint\u001b[0m\u001b[0;34m(\u001b[0m\u001b[0;34m'bar'\u001b[0m\u001b[0;34m)\u001b[0m\u001b[0;34m\u001b[0m\u001b[0;34m\u001b[0m\u001b[0m\n",
      "\u001b[0;31mKeyboardInterrupt\u001b[0m: "
     ]
    }
   ],
   "source": [
    "# finally\n",
    "# finally는 try 문이 예외를 생성하는지와 관계없이 실행된다.\n",
    "try:\n",
    "    raise KeyboardInterrupt\n",
    "finally:\n",
    "    print('bar')\n",
    "    \n",
    "# finally 절이 있으면, try 문이 완료되기 전에 finally 절이 마지막 작업으로 실행된다.\n",
    "# try 절을 실행하는 동안 예외가 발생하면, except 절에서 예외를 처리할 수 있다.\n",
    "# 예외가 except 절에서 처리되지 않으면, finally 절이 실행된 후 예외가 다시 발생한다."
   ]
  },
  {
   "cell_type": "code",
   "execution_count": 19,
   "metadata": {},
   "outputs": [
    {
     "data": {
      "text/plain": [
       "20"
      ]
     },
     "execution_count": 19,
     "metadata": {},
     "output_type": "execute_result"
    }
   ],
   "source": [
    "# finally 절에 return 문이 포함되면,\n",
    "# 반환 값은 try 절의 return 문이 주는 값이 아니라,\n",
    "# finally 절의 return 문이 주는 값이 된다.\n",
    "def foo():\n",
    "    try:\n",
    "        return 10\n",
    "    finally:\n",
    "        return 20\n",
    "\n",
    "foo()"
   ]
  },
  {
   "cell_type": "code",
   "execution_count": 20,
   "metadata": {},
   "outputs": [
    {
     "name": "stdout",
     "output_type": "stream",
     "text": [
      "bar\n"
     ]
    },
    {
     "data": {
      "text/plain": [
       "20"
      ]
     },
     "execution_count": 20,
     "metadata": {},
     "output_type": "execute_result"
    }
   ],
   "source": [
    "def bar():\n",
    "    try:\n",
    "        raise NameError\n",
    "        return 10\n",
    "    except:\n",
    "        print('bar')\n",
    "        return 20\n",
    "\n",
    "bar()"
   ]
  },
  {
   "cell_type": "code",
   "execution_count": 21,
   "metadata": {},
   "outputs": [
    {
     "name": "stdout",
     "output_type": "stream",
     "text": [
      "foo\n",
      "bar\n",
      "foobar\n"
     ]
    },
    {
     "data": {
      "text/plain": [
       "30"
      ]
     },
     "execution_count": 21,
     "metadata": {},
     "output_type": "execute_result"
    }
   ],
   "source": [
    "def foobar():\n",
    "    try:\n",
    "        print('foo')\n",
    "        raise NameError\n",
    "        print('foo1')\n",
    "        return 10\n",
    "    except:\n",
    "        print('bar')\n",
    "        return 20\n",
    "    finally:\n",
    "        print('foobar')\n",
    "        return 30\n",
    "    \n",
    "foobar()"
   ]
  },
  {
   "cell_type": "code",
   "execution_count": null,
   "metadata": {},
   "outputs": [],
   "source": []
  }
 ],
 "metadata": {
  "kernelspec": {
   "display_name": "Python 3",
   "language": "python",
   "name": "python3"
  },
  "language_info": {
   "codemirror_mode": {
    "name": "ipython",
    "version": 3
   },
   "file_extension": ".py",
   "mimetype": "text/x-python",
   "name": "python",
   "nbconvert_exporter": "python",
   "pygments_lexer": "ipython3",
   "version": "3.8.3"
  }
 },
 "nbformat": 4,
 "nbformat_minor": 4
}
