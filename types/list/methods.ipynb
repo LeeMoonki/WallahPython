{
 "cells": [
  {
   "cell_type": "code",
   "execution_count": 5,
   "metadata": {},
   "outputs": [
    {
     "data": {
      "text/plain": [
       "[1, 2, 3, 4]"
      ]
     },
     "execution_count": 5,
     "metadata": {},
     "output_type": "execute_result"
    }
   ],
   "source": [
    "# list.append(x)\n",
    "# 리스트 끝에 항목을 더한다\n",
    "# a[len(a):] = [x] 와 동등\n",
    "a = [1, 2, 3]\n",
    "a.append(4)\n",
    "a"
   ]
  },
  {
   "cell_type": "code",
   "execution_count": 6,
   "metadata": {},
   "outputs": [
    {
     "data": {
      "text/plain": [
       "[1, 2, 3, 10, 20]"
      ]
     },
     "execution_count": 6,
     "metadata": {},
     "output_type": "execute_result"
    }
   ],
   "source": [
    "# list.extend(iterable)\n",
    "# 리스트의 끝에 이터러블의 모든 항목을 덧붙여서 확장한다\n",
    "# a[len(a):] = iterable과 동등\n",
    "a = [1, 2, 3]\n",
    "a.extend([10, 20])\n",
    "a"
   ]
  },
  {
   "cell_type": "code",
   "execution_count": 8,
   "metadata": {},
   "outputs": [
    {
     "data": {
      "text/plain": [
       "[100, 1, 2, 3, 2000]"
      ]
     },
     "execution_count": 8,
     "metadata": {},
     "output_type": "execute_result"
    }
   ],
   "source": [
    "# list.insert(i, x)\n",
    "# 주어진 위치에 항목을 삽입\n",
    "a = [1, 2, 3]\n",
    "a.insert(0, 100)\n",
    "a.insert(len(a), 2000)\n",
    "a"
   ]
  },
  {
   "cell_type": "code",
   "execution_count": 9,
   "metadata": {},
   "outputs": [
    {
     "data": {
      "text/plain": [
       "[1, 2, 3, 5, 5]"
      ]
     },
     "execution_count": 9,
     "metadata": {},
     "output_type": "execute_result"
    }
   ],
   "source": [
    "# list.remove()\n",
    "# 리스트에서 값이 x와 같은 첫 번째 항목을 삭제\n",
    "# 그런 항목이 없으면 ValueError\n",
    "a = [1, 2, 3, 3, 5, 5]\n",
    "a.remove(3)\n",
    "a"
   ]
  },
  {
   "cell_type": "code",
   "execution_count": 11,
   "metadata": {},
   "outputs": [
    {
     "data": {
      "text/plain": [
       "([1, 3, 4], 2, 5)"
      ]
     },
     "execution_count": 11,
     "metadata": {},
     "output_type": "execute_result"
    }
   ],
   "source": [
    "# list.pop([i])\n",
    "# 주어진 위치에 있는 항목을 삭제하고, 그 항목을 돌려준다\n",
    "# 인덱스를 지정하지 않으면 a.pop()은 리스트의 마지막 항목을 삭제하고 돌려준다.\n",
    "a = [1, 2, 3, 4, 5]\n",
    "b = a.pop(1) # 2\n",
    "c = a.pop() # 5\n",
    "a, b, c"
   ]
  },
  {
   "cell_type": "code",
   "execution_count": 13,
   "metadata": {},
   "outputs": [
    {
     "data": {
      "text/plain": [
       "[]"
      ]
     },
     "execution_count": 13,
     "metadata": {},
     "output_type": "execute_result"
    }
   ],
   "source": [
    "# list.clear()\n",
    "# 리스트의 모든 항목을 삭제한다\n",
    "# del a[:]와 동등\n",
    "a = [1, 2, 3]\n",
    "a.clear()\n",
    "a"
   ]
  },
  {
   "cell_type": "code",
   "execution_count": 16,
   "metadata": {},
   "outputs": [
    {
     "data": {
      "text/plain": [
       "(2, 6)"
      ]
     },
     "execution_count": 16,
     "metadata": {},
     "output_type": "execute_result"
    }
   ],
   "source": [
    "# list.index(x[, start[, end]])\n",
    "# 리스트의 항목 중 값이 x와 같은 첫 번째 것의 0부터 시작하는 인덱스를 돌려준다\n",
    "# 그런 항목이 없으면 ValueError\n",
    "\n",
    "a = [1, 2, 3, 4, 5, 6, 4]\n",
    "i = a.index(3)\n",
    "\n",
    "# start와 end는 슬라이스 표기법처럼 해석되고 (a[start:end]와 같이)\n",
    "# 검색을 리스트의 특별한 서브 시퀀스로 제한하는 데 사용\n",
    "j = a.index(4, 4)\n",
    "\n",
    "i, j"
   ]
  },
  {
   "cell_type": "code",
   "execution_count": 17,
   "metadata": {},
   "outputs": [
    {
     "data": {
      "text/plain": [
       "3"
      ]
     },
     "execution_count": 17,
     "metadata": {},
     "output_type": "execute_result"
    }
   ],
   "source": [
    "# list.count(x)\n",
    "# 리스트에서 x가 등장하는 횟수를 돌려준다\n",
    "a = [1, 2, 2, 3, 4, 5, 5, 5, 6]\n",
    "\n",
    "a.count(5)"
   ]
  },
  {
   "cell_type": "code",
   "execution_count": 29,
   "metadata": {},
   "outputs": [
    {
     "data": {
      "text/plain": [
       "[{'id': 5}, {'id': 6}, {'id': 10}]"
      ]
     },
     "execution_count": 29,
     "metadata": {},
     "output_type": "execute_result"
    }
   ],
   "source": [
    "# list.sort(key=None, reverse=False)\n",
    "# 리스트의 항목들을 제자리에서 정렬한다\n",
    "# 설명은 sorted()를 참고 (https://docs.python.org/ko/3/library/functions.html#sorted)\n",
    "a = [2, 5, 1, 3]\n",
    "a.sort()\n",
    "a\n",
    "\n",
    "b = [{'id': 10}, {'id': 5}, {'id': 6}]\n",
    "b.sort(key=lambda d: d['id'])\n",
    "b"
   ]
  },
  {
   "cell_type": "code",
   "execution_count": 31,
   "metadata": {},
   "outputs": [
    {
     "data": {
      "text/plain": [
       "[4, 3, 2, 1]"
      ]
     },
     "execution_count": 31,
     "metadata": {},
     "output_type": "execute_result"
    }
   ],
   "source": [
    "# list.reverse()\n",
    "# 리스트의 요소들을 제자리에서 뒤집는다.\n",
    "a = [1, 2, 3, 4]\n",
    "a.reverse()\n",
    "a"
   ]
  },
  {
   "cell_type": "code",
   "execution_count": 32,
   "metadata": {},
   "outputs": [
    {
     "data": {
      "text/plain": [
       "[1, 2, 3]"
      ]
     },
     "execution_count": 32,
     "metadata": {},
     "output_type": "execute_result"
    }
   ],
   "source": [
    "# list.copy()\n",
    "# 리스트의 얕은 사본을 돌려준다\n",
    "# a[:]와 동등\n",
    "a = [1, 2, 3]\n",
    "a.copy()"
   ]
  },
  {
   "cell_type": "code",
   "execution_count": null,
   "metadata": {},
   "outputs": [],
   "source": []
  }
 ],
 "metadata": {
  "kernelspec": {
   "display_name": "Python 3",
   "language": "python",
   "name": "python3"
  },
  "language_info": {
   "codemirror_mode": {
    "name": "ipython",
    "version": 3
   },
   "file_extension": ".py",
   "mimetype": "text/x-python",
   "name": "python",
   "nbconvert_exporter": "python",
   "pygments_lexer": "ipython3",
   "version": "3.8.3"
  }
 },
 "nbformat": 4,
 "nbformat_minor": 4
}
